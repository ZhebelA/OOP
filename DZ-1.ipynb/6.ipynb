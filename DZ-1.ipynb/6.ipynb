{
 "cells": [
  {
   "cell_type": "code",
   "execution_count": 13,
   "metadata": {},
   "outputs": [],
   "source": [
    "class Student:\n",
    "    def __init__(self, name, surname, gender):\n",
    "        self.name = name\n",
    "        self.surname = surname\n",
    "        self.gender = gender\n",
    "        self.finished_courses = []\n",
    "        self.courses_in_progress = []\n",
    "        self.grades = {}\n",
    "\n",
    "    def rate_lc(self, lecturer, course, grade):\n",
    "        if isinstance(lecturer, Lecturer) and course in self.courses_in_progress and course in lecturer.courses_attached:\n",
    "            if course in lecturer.lct_grades:\n",
    "                lecturer.lct_grades[course] += [grade]\n",
    "            else:\n",
    "                lecturer.lct_grades[course] = [grade]\n",
    "        else:\n",
    "            return 'Ошибка'\n",
    "\n",
    "\n",
    "        \n",
    "class Mentor:\n",
    "    def __init__(self, name, surname):\n",
    "        self.name = name\n",
    "        self.surname = surname\n",
    "        self.courses_attached = []\n",
    "        \n"
   ]
  },
  {
   "cell_type": "code",
   "execution_count": 14,
   "metadata": {},
   "outputs": [
    {
     "name": "stdout",
     "output_type": "stream",
     "text": [
      "{'Python': [5]}\n"
     ]
    }
   ],
   "source": [
    "class Lecturer(Mentor):\n",
    "    def __init__(self, name, surname):\n",
    "        super().__init__(name, surname)\n",
    "        self.courses_attached = []\n",
    "        self.lct_grades = {}\n",
    "\n",
    "lecturer1 = Lecturer('Alastor', 'Moody')\n",
    "lecturer1.courses_attached += ['Python']\n",
    " \n",
    "student1 = Student('Nevill', 'Longbottom', 'male')\n",
    "student1.courses_in_progress += ['Python']\n",
    "\n",
    "student1.rate_lc(lecturer1, \"Python\", 5)\n",
    " \n",
    "print(lecturer1.lct_grades)"
   ]
  },
  {
   "cell_type": "code",
   "execution_count": 7,
   "metadata": {},
   "outputs": [],
   "source": [
    "class Reviewer(Mentor):\n",
    "    pass    \n",
    "    \n",
    "    def rate_hw(self, student, course, grade):\n",
    "        if isinstance(student, Student) and course in self.courses_attached and course in student.courses_in_progress:\n",
    "            if course in student.grades:\n",
    "                student.grades[course] += [grade]\n",
    "            else:\n",
    "                student.grades[course] = [grade]\n",
    "        else:\n",
    "            return 'Ошибка'"
   ]
  }
 ],
 "metadata": {
  "interpreter": {
   "hash": "a4e1f50763f85646ed7b411ed4bd8a9bd449b85ee12d00e810ba63bd081dddd0"
  },
  "kernelspec": {
   "display_name": "Python 3.10.5 64-bit",
   "language": "python",
   "name": "python3"
  },
  "language_info": {
   "codemirror_mode": {
    "name": "ipython",
    "version": 3
   },
   "file_extension": ".py",
   "mimetype": "text/x-python",
   "name": "python",
   "nbconvert_exporter": "python",
   "pygments_lexer": "ipython3",
   "version": "3.10.5"
  },
  "orig_nbformat": 4
 },
 "nbformat": 4,
 "nbformat_minor": 2
}
